{
 "cells": [
  {
   "cell_type": "code",
   "execution_count": 1,
   "metadata": {
    "collapsed": false
   },
   "outputs": [],
   "source": [
    "push!(LOAD_PATH, pwd());"
   ]
  },
  {
   "cell_type": "code",
   "execution_count": 2,
   "metadata": {
    "collapsed": false
   },
   "outputs": [],
   "source": [
    "import Nnet"
   ]
  },
  {
   "cell_type": "code",
   "execution_count": 3,
   "metadata": {
    "collapsed": false
   },
   "outputs": [
    {
     "name": "stdout",
     "output_type": "stream",
     "text": [
      "---------PERCEPTRON INIT NET---------\n"
     ]
    },
    {
     "ename": "LoadError",
     "evalue": "LoadError: UndefVarError: training not defined\nwhile loading In[3], in expression starting on line 1",
     "output_type": "error",
     "traceback": [
      "LoadError: UndefVarError: training not defined\nwhile loading In[3], in expression starting on line 1",
      "",
      " in trainNet at /Users/serhan/Desktop/projects/juliaML/NeuralNetwork/src/neuralNet.jl:84",
      " in testPerceptron at /Users/serhan/Desktop/projects/juliaML/NeuralNetwork/src/neuralNetTest.jl:21"
     ]
    },
    {
     "name": "stdout",
     "output_type": "stream",
     "text": [
      "### INPUT LAYER ###\n",
      "Neuron # 1:\n",
      "Input Weights:\n",
      "[0.5734296207418375]\n",
      "Neuron # 2:\n",
      "Input Weights:\n",
      "[0.07110975082352966]\n",
      "Neuron # 3:\n",
      "Input Weights:\n",
      "[0.18781798041000797]\n",
      "\n",
      "\n",
      "### OUTPUT LAYER ###\n",
      "Neuron #1 :\n",
      "Output Weights:\n",
      "[0.11950036687203913]\n"
     ]
    }
   ],
   "source": [
    "Nnet.testPerceptron()"
   ]
  },
  {
   "cell_type": "code",
   "execution_count": null,
   "metadata": {
    "collapsed": true
   },
   "outputs": [],
   "source": []
  }
 ],
 "metadata": {
  "kernelspec": {
   "display_name": "Julia 0.4.1",
   "language": "julia",
   "name": "julia-0.4"
  },
  "language_info": {
   "file_extension": ".jl",
   "mimetype": "application/julia",
   "name": "julia",
   "version": "0.4.1"
  }
 },
 "nbformat": 4,
 "nbformat_minor": 0
}
