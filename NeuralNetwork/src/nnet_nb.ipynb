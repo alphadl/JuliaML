{
 "cells": [
  {
   "cell_type": "code",
   "execution_count": 1,
   "metadata": {
    "collapsed": false
   },
   "outputs": [],
   "source": [
    "push!(LOAD_PATH, pwd());"
   ]
  },
  {
   "cell_type": "code",
   "execution_count": 2,
   "metadata": {
    "collapsed": false
   },
   "outputs": [],
   "source": [
    "import Nnet"
   ]
  },
  {
   "cell_type": "code",
   "execution_count": 3,
   "metadata": {
    "collapsed": false
   },
   "outputs": [
    {
     "name": "stdout",
     "output_type": "stream",
     "text": [
      "---------PERCEPTRON INIT NET---------\n"
     ]
    },
    {
     "name": "stderr",
     "output_type": "stream",
     "text": [
      "WARNING: indexing with non Integer Reals is deprecated\n"
     ]
    },
    {
     "name": "stdout",
     "output_type": "stream",
     "text": [
      "### INPUT LAYER ###\n",
      "Neuron # 1:\n",
      "Input Weights:\n",
      "[0.7012428742742198]\n",
      "Neuron # 2:\n",
      "Input Weights:\n",
      "[0.39212405104232473]\n",
      "Neuron # 3:\n",
      "Input Weights:\n",
      "[0.927364717326745]\n",
      "\n",
      "\n",
      "### OUTPUT LAYER ###\n",
      "Neuron #1 :\n",
      "Output Weights:\n",
      "[0.5411767877709628]\n"
     ]
    },
    {
     "ename": "LoadError",
     "evalue": "LoadError: BoundsError: attempt to access 3-element Array{Float64,1}:\n 0.0\n 0.0\n 0.0\n  at index [0]\nwhile loading In[3], in expression starting on line 1",
     "output_type": "error",
     "traceback": [
      "LoadError: BoundsError: attempt to access 3-element Array{Float64,1}:\n 0.0\n 0.0\n 0.0\n  at index [0]\nwhile loading In[3], in expression starting on line 1",
      "",
      " in calcEuclideanDistance at /Users/serhan/Desktop/projects/juliaML/NeuralNetwork/src/som/kohonen.jl:49",
      " in train! at /Users/serhan/Desktop/projects/juliaML/NeuralNetwork/src/som/kohonen.jl:13",
      " in testPerceptron at /Users/serhan/Desktop/projects/juliaML/NeuralNetwork/src/neuralNetTest.jl:21"
     ]
    },
    {
     "name": "stderr",
     "output_type": "stream",
     "text": [
      " in depwarn at deprecated.jl:73\n",
      " in to_index at deprecated.jl:447\n",
      " in calcEuclideanDistance at /Users/serhan/Desktop/projects/juliaML/NeuralNetwork/src/som/kohonen.jl:49\n",
      " in train! at /Users/serhan/Desktop/projects/juliaML/NeuralNetwork/src/som/kohonen.jl:13\n",
      " in testPerceptron at /Users/serhan/Desktop/projects/juliaML/NeuralNetwork/src/neuralNetTest.jl:21\n",
      " in include_string at loading.jl:266\n",
      " in execute_request_0x535c5df2 at /Users/serhan/.julia/v0.4/IJulia/src/execute_request.jl:177\n",
      " in eventloop at /Users/serhan/.julia/v0.4/IJulia/src/IJulia.jl:141\n",
      " in anonymous at task.jl:447\n",
      "while loading In[3], in expression starting on line 1\n"
     ]
    }
   ],
   "source": [
    "Nnet.testPerceptron()"
   ]
  },
  {
   "cell_type": "code",
   "execution_count": null,
   "metadata": {
    "collapsed": true
   },
   "outputs": [],
   "source": []
  }
 ],
 "metadata": {
  "kernelspec": {
   "display_name": "Julia 0.4.1",
   "language": "julia",
   "name": "julia-0.4"
  },
  "language_info": {
   "file_extension": ".jl",
   "mimetype": "application/julia",
   "name": "julia",
   "version": "0.4.1"
  }
 },
 "nbformat": 4,
 "nbformat_minor": 0
}
